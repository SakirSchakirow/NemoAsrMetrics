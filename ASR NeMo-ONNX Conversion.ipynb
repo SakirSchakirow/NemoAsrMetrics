{
 "cells": [
  {
   "cell_type": "markdown",
   "source": [
    "# Load and save NeMo model as a file\n",
    "\n",
    "Load NeMo-model in path once so later the converter will use this path to restore loaded model to convert it to ONNX-model"
   ],
   "metadata": {
    "collapsed": false
   },
   "id": "f8342b137b7e6522"
  },
  {
   "cell_type": "code",
   "execution_count": null,
   "outputs": [],
   "source": [
    "import nemo.collections.asr as nemo_asr\n",
    "\n",
    "nemo_model_name = 'stt_en_citrinet_1024'\n",
    "model = nemo_asr.models.EncDecCTCModelBPE.from_pretrained(model_name=nemo_model_name)\n",
    "\n",
    "nemo_model_path = 'models/stt_en_citrinet_1024.nemo'\n",
    "model.save_to(nemo_model_path)"
   ],
   "metadata": {
    "collapsed": false
   },
   "id": "2535997a28c6f916"
  },
  {
   "cell_type": "markdown",
   "source": [
    "# Use converter to produce ONNX-model and yaml-configuration file"
   ],
   "metadata": {
    "collapsed": false
   },
   "id": "2311c8183267df6e"
  },
  {
   "cell_type": "code",
   "execution_count": null,
   "outputs": [],
   "source": [
    "from toolkit.asr_nemo_onnx_convert import NemoOnnxConverter\n",
    "\n",
    "nemo_model_path = 'models/stt_en_citrinet_1024.nemo'\n",
    "onnx_model_path = 'models/stt_en_citrinet_1024.onnx'\n",
    "config_model_path = 'models/stt_en_citrinet_1024.yaml'\n",
    "\n",
    "converter = NemoOnnxConverter(nemo_model_path, onnx_model_path, config_model_path)\n",
    "converter.produce_onnx()"
   ],
   "metadata": {
    "collapsed": false
   },
   "id": "4c62eb7c3c368a0a"
  }
 ],
 "metadata": {
  "kernelspec": {
   "display_name": "Python 3",
   "language": "python",
   "name": "python3"
  },
  "language_info": {
   "codemirror_mode": {
    "name": "ipython",
    "version": 2
   },
   "file_extension": ".py",
   "mimetype": "text/x-python",
   "name": "python",
   "nbconvert_exporter": "python",
   "pygments_lexer": "ipython2",
   "version": "2.7.6"
  }
 },
 "nbformat": 4,
 "nbformat_minor": 5
}
