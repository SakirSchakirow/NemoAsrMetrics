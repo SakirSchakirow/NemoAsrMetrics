{
 "cells": [
  {
   "cell_type": "markdown",
   "id": "5c3bf04e1cd68ba",
   "metadata": {
    "collapsed": false
   },
   "source": [
    "# Unzipping datasets and converting data to .wav-s\n",
    "Prerequisite:\n",
    " - Sox (pypi.org/sox/)\n",
    " - ``sudo apt -qq install -y sox``"
   ]
  },
  {
   "cell_type": "code",
   "execution_count": 2,
   "id": "initial_id",
   "metadata": {
    "ExecuteTime": {
     "end_time": "2023-10-27T18:51:15.762801Z",
     "start_time": "2023-10-27T18:51:15.757909Z"
    }
   },
   "outputs": [
    {
     "name": "stdout",
     "output_type": "stream",
     "text": [
      "Directory already exists datasets/test-clean. Remove it if you want to decode flacs-archive\n"
     ]
    }
   ],
   "source": [
    "import glob\n",
    "import os\n",
    "import subprocess\n",
    "import tarfile\n",
    "\n",
    "openslr_dir = 'datasets/test-other'\n",
    "openslr_tar = 'datasets/test-other.tar.gz'\n",
    "\n",
    "if not os.path.exists(openslr_dir):\n",
    "    # Untar and convert .flac to .wav (using sox)\n",
    "    tar = tarfile.open(openslr_tar)\n",
    "    tar.extractall(path=openslr_dir)\n",
    "\n",
    "    print(\"******\\nConverting .flac to .wav...\")\n",
    "    sph_list = glob.glob(openslr_dir + '/**/*.flac', recursive=True)\n",
    "    for sph_path in sph_list:\n",
    "        wav_path = sph_path[:-5] + '.wav'\n",
    "        cmd = [\"sox\", sph_path, wav_path]\n",
    "        subprocess.run(cmd)\n",
    "        os.remove(sph_path)\n",
    "    \n",
    "    print(\"Finished conversion.\\n******\")\n",
    "else:\n",
    "    print(f\"Directory already exists {openslr_dir}. Remove it if you want to decode flacs-archive\")"
   ]
  }
 ],
 "metadata": {
  "kernelspec": {
   "display_name": "Python 3 (ipykernel)",
   "language": "python",
   "name": "python3"
  },
  "language_info": {
   "codemirror_mode": {
    "name": "ipython",
    "version": 3
   },
   "file_extension": ".py",
   "mimetype": "text/x-python",
   "name": "python",
   "nbconvert_exporter": "python",
   "pygments_lexer": "ipython3",
   "version": "3.9.18"
  }
 },
 "nbformat": 4,
 "nbformat_minor": 5
}
